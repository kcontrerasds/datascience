{
 "cells": [
  {
   "cell_type": "code",
   "execution_count": 1,
   "id": "06cf3324",
   "metadata": {},
   "outputs": [],
   "source": [
    "# Bibliotecas \n",
    "import pandas as pd\n",
    "import torch as torch\n",
    "import numpy as np\n",
    "import math\n",
    "import requests\n",
    "import random\n",
    "\n",
    "import matplotlib.pyplot as plt\n",
    "import seaborn as sns\n",
    "\n",
    "from mpl_toolkits import mplot3d\n",
    "from sklearn.preprocessing import MinMaxScaler\n",
    "from sklearn.model_selection import train_test_split\n",
    "from sklearn.preprocessing import StandardScaler\n",
    "from sklearn.tree import DecisionTreeClassifier\n",
    "from sklearn.metrics import confusion_matrix\n",
    "from sklearn.ensemble import RandomForestClassifier  \n",
    "from sklearn import preprocessing\n",
    "from sklearn import utils\n",
    "from matplotlib.colors import ListedColormap \n",
    "import datetime as dt\n",
    "from numpy import arange\n",
    "import matplotlib.pyplot as plt\n",
    "from pandas import read_csv\n",
    "from sklearn import metrics\n",
    "from sklearn.model_selection import train_test_split\n",
    "from sklearn.ensemble import RandomForestRegressor\n",
    "from sklearn.preprocessing import StandardScaler\n",
    "from sklearn.model_selection import RandomizedSearchCV\n",
    "\n",
    "import warnings\n",
    "warnings.filterwarnings(\"ignore\")"
   ]
  },
  {
   "cell_type": "markdown",
   "id": "274e3877",
   "metadata": {},
   "source": [
    "Hipótesis: predicir precio de cierre de 5 compañías del indice de acciones NASQAD: Google, Twitter, Tesla, Amazon y Apple."
   ]
  },
  {
   "cell_type": "markdown",
   "id": "c6e68beb",
   "metadata": {},
   "source": [
    "## Preprocesado"
   ]
  },
  {
   "cell_type": "code",
   "execution_count": 2,
   "id": "3b92d59e",
   "metadata": {},
   "outputs": [],
   "source": [
    "df = pd.read_csv('NASDAQ_100_Data_From_2010.csv', sep = '\\t')"
   ]
  },
  {
   "cell_type": "code",
   "execution_count": 3,
   "id": "f05179b5",
   "metadata": {},
   "outputs": [
    {
     "data": {
      "text/html": [
       "<div>\n",
       "<style scoped>\n",
       "    .dataframe tbody tr th:only-of-type {\n",
       "        vertical-align: middle;\n",
       "    }\n",
       "\n",
       "    .dataframe tbody tr th {\n",
       "        vertical-align: top;\n",
       "    }\n",
       "\n",
       "    .dataframe thead th {\n",
       "        text-align: right;\n",
       "    }\n",
       "</style>\n",
       "<table border=\"1\" class=\"dataframe\">\n",
       "  <thead>\n",
       "    <tr style=\"text-align: right;\">\n",
       "      <th></th>\n",
       "      <th>Date</th>\n",
       "      <th>Open</th>\n",
       "      <th>High</th>\n",
       "      <th>Low</th>\n",
       "      <th>Close</th>\n",
       "      <th>Adj Close</th>\n",
       "      <th>Volume</th>\n",
       "      <th>Name</th>\n",
       "    </tr>\n",
       "  </thead>\n",
       "  <tbody>\n",
       "    <tr>\n",
       "      <th>0</th>\n",
       "      <td>2010-01-04</td>\n",
       "      <td>7.622500</td>\n",
       "      <td>7.660714</td>\n",
       "      <td>7.585000</td>\n",
       "      <td>7.643214</td>\n",
       "      <td>6.562591</td>\n",
       "      <td>493729600</td>\n",
       "      <td>AAPL</td>\n",
       "    </tr>\n",
       "    <tr>\n",
       "      <th>1</th>\n",
       "      <td>2010-01-05</td>\n",
       "      <td>7.664286</td>\n",
       "      <td>7.699643</td>\n",
       "      <td>7.616071</td>\n",
       "      <td>7.656429</td>\n",
       "      <td>6.573935</td>\n",
       "      <td>601904800</td>\n",
       "      <td>AAPL</td>\n",
       "    </tr>\n",
       "    <tr>\n",
       "      <th>2</th>\n",
       "      <td>2010-01-06</td>\n",
       "      <td>7.656429</td>\n",
       "      <td>7.686786</td>\n",
       "      <td>7.526786</td>\n",
       "      <td>7.534643</td>\n",
       "      <td>6.469369</td>\n",
       "      <td>552160000</td>\n",
       "      <td>AAPL</td>\n",
       "    </tr>\n",
       "    <tr>\n",
       "      <th>3</th>\n",
       "      <td>2010-01-07</td>\n",
       "      <td>7.562500</td>\n",
       "      <td>7.571429</td>\n",
       "      <td>7.466071</td>\n",
       "      <td>7.520714</td>\n",
       "      <td>6.457407</td>\n",
       "      <td>477131200</td>\n",
       "      <td>AAPL</td>\n",
       "    </tr>\n",
       "    <tr>\n",
       "      <th>4</th>\n",
       "      <td>2010-01-08</td>\n",
       "      <td>7.510714</td>\n",
       "      <td>7.571429</td>\n",
       "      <td>7.466429</td>\n",
       "      <td>7.570714</td>\n",
       "      <td>6.500339</td>\n",
       "      <td>447610800</td>\n",
       "      <td>AAPL</td>\n",
       "    </tr>\n",
       "  </tbody>\n",
       "</table>\n",
       "</div>"
      ],
      "text/plain": [
       "         Date      Open      High       Low     Close  Adj Close     Volume  \\\n",
       "0  2010-01-04  7.622500  7.660714  7.585000  7.643214   6.562591  493729600   \n",
       "1  2010-01-05  7.664286  7.699643  7.616071  7.656429   6.573935  601904800   \n",
       "2  2010-01-06  7.656429  7.686786  7.526786  7.534643   6.469369  552160000   \n",
       "3  2010-01-07  7.562500  7.571429  7.466071  7.520714   6.457407  477131200   \n",
       "4  2010-01-08  7.510714  7.571429  7.466429  7.570714   6.500339  447610800   \n",
       "\n",
       "   Name  \n",
       "0  AAPL  \n",
       "1  AAPL  \n",
       "2  AAPL  \n",
       "3  AAPL  \n",
       "4  AAPL  "
      ]
     },
     "execution_count": 3,
     "metadata": {},
     "output_type": "execute_result"
    }
   ],
   "source": [
    "df.head()"
   ]
  },
  {
   "cell_type": "code",
   "execution_count": 4,
   "id": "95ed890f",
   "metadata": {},
   "outputs": [
    {
     "data": {
      "text/html": [
       "<div>\n",
       "<style scoped>\n",
       "    .dataframe tbody tr th:only-of-type {\n",
       "        vertical-align: middle;\n",
       "    }\n",
       "\n",
       "    .dataframe tbody tr th {\n",
       "        vertical-align: top;\n",
       "    }\n",
       "\n",
       "    .dataframe thead th {\n",
       "        text-align: right;\n",
       "    }\n",
       "</style>\n",
       "<table border=\"1\" class=\"dataframe\">\n",
       "  <thead>\n",
       "    <tr style=\"text-align: right;\">\n",
       "      <th></th>\n",
       "      <th>Date</th>\n",
       "      <th>Open</th>\n",
       "      <th>High</th>\n",
       "      <th>Low</th>\n",
       "      <th>Close</th>\n",
       "      <th>Adj Close</th>\n",
       "      <th>Volume</th>\n",
       "      <th>Name</th>\n",
       "    </tr>\n",
       "  </thead>\n",
       "  <tbody>\n",
       "    <tr>\n",
       "      <th>271675</th>\n",
       "      <td>2021-09-03</td>\n",
       "      <td>295.325012</td>\n",
       "      <td>301.804993</td>\n",
       "      <td>292.029999</td>\n",
       "      <td>298.290009</td>\n",
       "      <td>298.290009</td>\n",
       "      <td>6127900</td>\n",
       "      <td>ZM</td>\n",
       "    </tr>\n",
       "    <tr>\n",
       "      <th>271676</th>\n",
       "      <td>2021-09-07</td>\n",
       "      <td>298.295013</td>\n",
       "      <td>300.980011</td>\n",
       "      <td>294.799988</td>\n",
       "      <td>299.959991</td>\n",
       "      <td>299.959991</td>\n",
       "      <td>4251900</td>\n",
       "      <td>ZM</td>\n",
       "    </tr>\n",
       "    <tr>\n",
       "      <th>271677</th>\n",
       "      <td>2021-09-08</td>\n",
       "      <td>299.549988</td>\n",
       "      <td>299.959991</td>\n",
       "      <td>290.529999</td>\n",
       "      <td>293.600006</td>\n",
       "      <td>293.600006</td>\n",
       "      <td>3934400</td>\n",
       "      <td>ZM</td>\n",
       "    </tr>\n",
       "    <tr>\n",
       "      <th>271678</th>\n",
       "      <td>2021-09-09</td>\n",
       "      <td>292.160004</td>\n",
       "      <td>297.570007</td>\n",
       "      <td>291.130005</td>\n",
       "      <td>295.859985</td>\n",
       "      <td>295.859985</td>\n",
       "      <td>3350100</td>\n",
       "      <td>ZM</td>\n",
       "    </tr>\n",
       "    <tr>\n",
       "      <th>271679</th>\n",
       "      <td>2021-09-10</td>\n",
       "      <td>296.910004</td>\n",
       "      <td>306.263000</td>\n",
       "      <td>296.809998</td>\n",
       "      <td>301.500000</td>\n",
       "      <td>301.500000</td>\n",
       "      <td>6089600</td>\n",
       "      <td>ZM</td>\n",
       "    </tr>\n",
       "  </tbody>\n",
       "</table>\n",
       "</div>"
      ],
      "text/plain": [
       "              Date        Open        High         Low       Close  \\\n",
       "271675  2021-09-03  295.325012  301.804993  292.029999  298.290009   \n",
       "271676  2021-09-07  298.295013  300.980011  294.799988  299.959991   \n",
       "271677  2021-09-08  299.549988  299.959991  290.529999  293.600006   \n",
       "271678  2021-09-09  292.160004  297.570007  291.130005  295.859985   \n",
       "271679  2021-09-10  296.910004  306.263000  296.809998  301.500000   \n",
       "\n",
       "         Adj Close   Volume Name  \n",
       "271675  298.290009  6127900   ZM  \n",
       "271676  299.959991  4251900   ZM  \n",
       "271677  293.600006  3934400   ZM  \n",
       "271678  295.859985  3350100   ZM  \n",
       "271679  301.500000  6089600   ZM  "
      ]
     },
     "execution_count": 4,
     "metadata": {},
     "output_type": "execute_result"
    }
   ],
   "source": [
    "df.tail()"
   ]
  },
  {
   "cell_type": "code",
   "execution_count": 5,
   "id": "fc075b44",
   "metadata": {},
   "outputs": [
    {
     "data": {
      "text/html": [
       "<div>\n",
       "<style scoped>\n",
       "    .dataframe tbody tr th:only-of-type {\n",
       "        vertical-align: middle;\n",
       "    }\n",
       "\n",
       "    .dataframe tbody tr th {\n",
       "        vertical-align: top;\n",
       "    }\n",
       "\n",
       "    .dataframe thead th {\n",
       "        text-align: right;\n",
       "    }\n",
       "</style>\n",
       "<table border=\"1\" class=\"dataframe\">\n",
       "  <thead>\n",
       "    <tr style=\"text-align: right;\">\n",
       "      <th></th>\n",
       "      <th>Open</th>\n",
       "      <th>High</th>\n",
       "      <th>Low</th>\n",
       "      <th>Close</th>\n",
       "      <th>Adj Close</th>\n",
       "      <th>Volume</th>\n",
       "    </tr>\n",
       "  </thead>\n",
       "  <tbody>\n",
       "    <tr>\n",
       "      <th>count</th>\n",
       "      <td>271680.000000</td>\n",
       "      <td>271680.000000</td>\n",
       "      <td>271680.000000</td>\n",
       "      <td>271680.000000</td>\n",
       "      <td>271680.000000</td>\n",
       "      <td>2.716800e+05</td>\n",
       "    </tr>\n",
       "    <tr>\n",
       "      <th>mean</th>\n",
       "      <td>130.147060</td>\n",
       "      <td>131.678573</td>\n",
       "      <td>128.564517</td>\n",
       "      <td>130.173960</td>\n",
       "      <td>126.929715</td>\n",
       "      <td>1.052670e+07</td>\n",
       "    </tr>\n",
       "    <tr>\n",
       "      <th>std</th>\n",
       "      <td>259.463324</td>\n",
       "      <td>262.249242</td>\n",
       "      <td>256.522832</td>\n",
       "      <td>259.455010</td>\n",
       "      <td>260.156874</td>\n",
       "      <td>3.924802e+07</td>\n",
       "    </tr>\n",
       "    <tr>\n",
       "      <th>min</th>\n",
       "      <td>0.610000</td>\n",
       "      <td>0.660000</td>\n",
       "      <td>0.610000</td>\n",
       "      <td>0.650000</td>\n",
       "      <td>0.612270</td>\n",
       "      <td>0.000000e+00</td>\n",
       "    </tr>\n",
       "    <tr>\n",
       "      <th>25%</th>\n",
       "      <td>32.549999</td>\n",
       "      <td>32.950001</td>\n",
       "      <td>32.150002</td>\n",
       "      <td>32.570000</td>\n",
       "      <td>28.001979</td>\n",
       "      <td>1.332175e+06</td>\n",
       "    </tr>\n",
       "    <tr>\n",
       "      <th>50%</th>\n",
       "      <td>59.810001</td>\n",
       "      <td>60.504999</td>\n",
       "      <td>59.119999</td>\n",
       "      <td>59.849998</td>\n",
       "      <td>55.599998</td>\n",
       "      <td>2.759400e+06</td>\n",
       "    </tr>\n",
       "    <tr>\n",
       "      <th>75%</th>\n",
       "      <td>117.139999</td>\n",
       "      <td>118.470001</td>\n",
       "      <td>115.820000</td>\n",
       "      <td>117.190002</td>\n",
       "      <td>114.705492</td>\n",
       "      <td>6.889500e+06</td>\n",
       "    </tr>\n",
       "    <tr>\n",
       "      <th>max</th>\n",
       "      <td>3744.000000</td>\n",
       "      <td>3773.080078</td>\n",
       "      <td>3696.790039</td>\n",
       "      <td>3731.409912</td>\n",
       "      <td>3731.409912</td>\n",
       "      <td>1.880998e+09</td>\n",
       "    </tr>\n",
       "  </tbody>\n",
       "</table>\n",
       "</div>"
      ],
      "text/plain": [
       "                Open           High            Low          Close  \\\n",
       "count  271680.000000  271680.000000  271680.000000  271680.000000   \n",
       "mean      130.147060     131.678573     128.564517     130.173960   \n",
       "std       259.463324     262.249242     256.522832     259.455010   \n",
       "min         0.610000       0.660000       0.610000       0.650000   \n",
       "25%        32.549999      32.950001      32.150002      32.570000   \n",
       "50%        59.810001      60.504999      59.119999      59.849998   \n",
       "75%       117.139999     118.470001     115.820000     117.190002   \n",
       "max      3744.000000    3773.080078    3696.790039    3731.409912   \n",
       "\n",
       "           Adj Close        Volume  \n",
       "count  271680.000000  2.716800e+05  \n",
       "mean      126.929715  1.052670e+07  \n",
       "std       260.156874  3.924802e+07  \n",
       "min         0.612270  0.000000e+00  \n",
       "25%        28.001979  1.332175e+06  \n",
       "50%        55.599998  2.759400e+06  \n",
       "75%       114.705492  6.889500e+06  \n",
       "max      3731.409912  1.880998e+09  "
      ]
     },
     "execution_count": 5,
     "metadata": {},
     "output_type": "execute_result"
    }
   ],
   "source": [
    "df_describe = pd.DataFrame(df)\n",
    "df_describe.describe()"
   ]
  },
  {
   "cell_type": "code",
   "execution_count": 6,
   "id": "6db26d90",
   "metadata": {},
   "outputs": [
    {
     "data": {
      "text/plain": [
       "['Date', 'Open', 'High', 'Low', 'Close', 'Adj Close', 'Volume', 'Name']"
      ]
     },
     "execution_count": 6,
     "metadata": {},
     "output_type": "execute_result"
    }
   ],
   "source": [
    "list(df.columns.values)"
   ]
  },
  {
   "cell_type": "code",
   "execution_count": 7,
   "id": "2afc9f35",
   "metadata": {},
   "outputs": [
    {
     "data": {
      "text/plain": [
       "Date         0\n",
       "Open         0\n",
       "High         0\n",
       "Low          0\n",
       "Close        0\n",
       "Adj Close    0\n",
       "Volume       0\n",
       "Name         0\n",
       "dtype: int64"
      ]
     },
     "execution_count": 7,
     "metadata": {},
     "output_type": "execute_result"
    }
   ],
   "source": [
    "df.isnull().sum()"
   ]
  },
  {
   "cell_type": "code",
   "execution_count": 8,
   "id": "95cf6477",
   "metadata": {},
   "outputs": [
    {
     "data": {
      "text/plain": [
       "Date          object\n",
       "Open         float64\n",
       "High         float64\n",
       "Low          float64\n",
       "Close        float64\n",
       "Adj Close    float64\n",
       "Volume         int64\n",
       "Name          object\n",
       "dtype: object"
      ]
     },
     "execution_count": 8,
     "metadata": {},
     "output_type": "execute_result"
    }
   ],
   "source": [
    "df.dtypes"
   ]
  },
  {
   "cell_type": "code",
   "execution_count": 9,
   "id": "c25f4ac8",
   "metadata": {},
   "outputs": [],
   "source": [
    "df.drop([\"Volume\"], axis=1, inplace=True)"
   ]
  },
  {
   "cell_type": "code",
   "execution_count": 10,
   "id": "35897558",
   "metadata": {},
   "outputs": [
    {
     "data": {
      "text/plain": [
       "['Date', 'Open', 'High', 'Low', 'Close', 'Adj Close', 'Name']"
      ]
     },
     "execution_count": 10,
     "metadata": {},
     "output_type": "execute_result"
    }
   ],
   "source": [
    "list(df.columns.values)"
   ]
  },
  {
   "cell_type": "code",
   "execution_count": 11,
   "id": "b95738ac",
   "metadata": {},
   "outputs": [
    {
     "name": "stdout",
     "output_type": "stream",
     "text": [
      "<class 'pandas.core.frame.DataFrame'>\n",
      "RangeIndex: 271680 entries, 0 to 271679\n",
      "Data columns (total 7 columns):\n",
      " #   Column     Non-Null Count   Dtype  \n",
      "---  ------     --------------   -----  \n",
      " 0   Date       271680 non-null  object \n",
      " 1   Open       271680 non-null  float64\n",
      " 2   High       271680 non-null  float64\n",
      " 3   Low        271680 non-null  float64\n",
      " 4   Close      271680 non-null  float64\n",
      " 5   Adj Close  271680 non-null  float64\n",
      " 6   Name       271680 non-null  object \n",
      "dtypes: float64(5), object(2)\n",
      "memory usage: 14.5+ MB\n"
     ]
    }
   ],
   "source": [
    "df.info()"
   ]
  },
  {
   "cell_type": "code",
   "execution_count": 12,
   "id": "70ba155d",
   "metadata": {},
   "outputs": [
    {
     "data": {
      "text/plain": [
       "(271680, 7)"
      ]
     },
     "execution_count": 12,
     "metadata": {},
     "output_type": "execute_result"
    }
   ],
   "source": [
    "df.shape"
   ]
  },
  {
   "cell_type": "code",
   "execution_count": 13,
   "id": "0fbc1725",
   "metadata": {},
   "outputs": [
    {
     "data": {
      "text/plain": [
       "2"
      ]
     },
     "execution_count": 13,
     "metadata": {},
     "output_type": "execute_result"
    }
   ],
   "source": [
    "df.ndim"
   ]
  },
  {
   "cell_type": "code",
   "execution_count": 14,
   "id": "d7eb4456",
   "metadata": {},
   "outputs": [],
   "source": [
    "df.set_index('Date', inplace=True)\n",
    "df.dropna(inplace=True)"
   ]
  },
  {
   "cell_type": "markdown",
   "id": "c95f42ff",
   "metadata": {},
   "source": [
    "#### Filtración de datos para reducir la muestra:\n",
    "\n",
    "En el siguiente bloque de código vamos a filtrar el dataset para mostrar solos los datos de las cinco empresas seleccionadas:\n",
    "\n",
    "- Cisco Systems, Inc.: 'CSCO'\n",
    "- Google Inc.: 'GOOG'\n",
    "- Tesla, Inc.: 'TSLA'\n",
    "- Microsoft Corporation: 'MSFT'\n",
    "- Amazon.com, Inc.: 'AMZN'\n",
    "\n",
    "Se busca reducir el número de columnas, que actualmente es de 271680 para poder hacer el análisis de resultados más entendible y manejable. "
   ]
  },
  {
   "cell_type": "code",
   "execution_count": null,
   "id": "450c9c93",
   "metadata": {},
   "outputs": [],
   "source": [
    "selection = ['CSCO','GOOG', 'TSLA','AMZN','MSFT']\n",
    "short_df = df[df['Close'].isin(selection)]\n",
    "print(short_df)"
   ]
  },
  {
   "cell_type": "code",
   "execution_count": 16,
   "id": "621f9150",
   "metadata": {},
   "outputs": [],
   "source": [
    "df = short_df\n",
    "df.shape"
   ]
  },
  {
   "cell_type": "markdown",
   "id": "be2397ef",
   "metadata": {},
   "source": [
    "## EDA"
   ]
  },
  {
   "cell_type": "markdown",
   "id": "921c3525",
   "metadata": {},
   "source": [
    "## Diagrama de Pares: Observaciones\n",
    "\n",
    "Al relacionar los valores de las columnas de precio de apartura \"Open\", precio de cierre \"Close\", precio máximo alcanzado en el día \"High\", precio mínimo \"Low\", precio de cierre ajustado \"Adj Close\" vemos linealidad, lo que significa que los datos tienen una variación muy reducida y siguen la tendencia del movimiento sin valores extremos. Esto es diferente para las relaciones con el volumen, dado que el volumen es el número de acciones negociadas en ese día, por lo que vemos valores extremos que se alejan del grueso de datos en las partes superiores, respondiendo a la volatilidad particular por eventos en el mercado como noticias financieras o rumores acerca del valor futuro de ciertas acciones. "
   ]
  },
  {
   "cell_type": "code",
   "execution_count": null,
   "id": "9e55eef3",
   "metadata": {},
   "outputs": [],
   "source": [
    "sns.pairplot(df);"
   ]
  },
  {
   "cell_type": "markdown",
   "id": "a06a2c6f",
   "metadata": {},
   "source": [
    "## Mapa de Calor: Observaciones\n",
    "\n",
    "Donde el número representa la línealidad y congruencia en el comportamiento de las acciones, sin valores extremos siguen la misma tendencia. Significa que hay correlación en la variables, lo que hace los datos útiles para ser usados en un modelo de apredizaje automático usando el algoritmo Random Forest."
   ]
  },
  {
   "cell_type": "code",
   "execution_count": null,
   "id": "3ad45fa8",
   "metadata": {},
   "outputs": [],
   "source": [
    "#Mapa de calor \n",
    "def correlation_heatmap(df1):\n",
    "    _,ax=plt.subplots(figsize=(15,10))\n",
    "    colormap=sns.diverging_palette(220,10,as_cmap=True)\n",
    "    sns.heatmap(df.corr(),annot=True,cmap=colormap)\n",
    "    \n",
    "correlation_heatmap(df)"
   ]
  },
  {
   "cell_type": "markdown",
   "id": "685d431c",
   "metadata": {},
   "source": [
    "## Observaciones: Gráfico de Dispersión\n",
    "\n",
    "Resulta interesante observar que hay tres empresas: Tesla, Microsoft y Cisco, donde el volumen de intercambios diarios es mayor, por lo tanto los precios tienden a ser más volátiles. "
   ]
  },
  {
   "cell_type": "code",
   "execution_count": null,
   "id": "62cf270e",
   "metadata": {},
   "outputs": [],
   "source": [
    "plt.figure(figsize=(10,10))\n",
    "plt.scatter(x='Volume',y='Name',data=df)\n",
    "plt.xlabel('Volume')\n",
    "plt.ylabel('Compañía')"
   ]
  },
  {
   "cell_type": "markdown",
   "id": "0987cb3c",
   "metadata": {},
   "source": [
    "## Desviación Estandar del precio de cierre"
   ]
  },
  {
   "cell_type": "code",
   "execution_count": null,
   "id": "af6c1cc1",
   "metadata": {},
   "outputs": [],
   "source": [
    "print(\"========================================================\")\n",
    "print(\"Desviación estandar: variables de las acciones de Tesla\")\n",
    "df_TSLA = df[df['Name'] == 'TSLA']\n",
    "sd_TSLA = np.std(df_TSLA)\n",
    "print((sd_TSLA))\n",
    "print(\"========================================================\")\n",
    "print(\"Desviación estandar: variables de las acciones de Cisco\")\n",
    "df_CSCO = df[df['Name'] == 'CSCO']\n",
    "sd_CSCO = np.std(df_CSCO)\n",
    "print(round(sd_CSCO))\n",
    "print(\"========================================================\")\n",
    "print(\"Desviación estandar: variables de las acciones de Google\")\n",
    "df_GOOG = df[df['Name'] == 'GOOG']\n",
    "sd_GOOG = np.std(df_GOOG)\n",
    "print((sd_GOOG))\n",
    "print(\"========================================================\")\n",
    "print(\"Desviación estandar: variables de las acciones de Amazon\")\n",
    "df_AMZN = df[df['Name'] == 'AMZN']\n",
    "sd_AMZN = np.std(df_AMZN)\n",
    "print((sd_AMZN))\n",
    "print(\"========================================================\")\n",
    "print(\"Desviación estandar: variables de las acciones de Microsoft\")\n",
    "df_MSFT = df[df['Name'] == 'MSFT']\n",
    "sd_MSFT = np.std(df_MSFT)\n",
    "print((sd_MSFT))\n"
   ]
  },
  {
   "cell_type": "code",
   "execution_count": null,
   "id": "ac7079b0",
   "metadata": {},
   "outputs": [],
   "source": [
    "df.set_index(\"Date\", inplace=True)\n",
    "df['Adj Close'].plot()\n",
    "plt.ylabel(\"Adjusted Close Prices\")\n",
    "plt.show()"
   ]
  },
  {
   "cell_type": "markdown",
   "id": "734bad8b",
   "metadata": {},
   "source": [
    "## Modelo: Random Forest"
   ]
  },
  {
   "cell_type": "markdown",
   "id": "63d0c363",
   "metadata": {},
   "source": [
    "### Paso 1:\n",
    "Seleccionar las columnas que son númericas y que sirven para entrenar el modelo, define los datos de prueba y entrenamiento"
   ]
  },
  {
   "cell_type": "code",
   "execution_count": null,
   "id": "c3796af8",
   "metadata": {},
   "outputs": [],
   "source": [
    "column_selection = ['Open', 'High', 'Low', 'Close', 'Adj Close', 'Volume']\n",
    "x = df.iloc[:,[2,3]].values\n",
    "y = df.iloc[:,4].values"
   ]
  },
  {
   "cell_type": "code",
   "execution_count": null,
   "id": "9e4d1553",
   "metadata": {},
   "outputs": [],
   "source": [
    "#convert y values to categorical values\n",
    "lab = preprocessing.LabelEncoder()\n",
    "y = lab.fit_transform(y)\n",
    "\n",
    "#view transformed values\n",
    "print(y)"
   ]
  },
  {
   "cell_type": "code",
   "execution_count": null,
   "id": "5fdb5225",
   "metadata": {},
   "outputs": [],
   "source": [
    "x_train, x_test, y_train, y_test = train_test_split(x, y, test_size= 0.25, random_state=0)  "
   ]
  },
  {
   "cell_type": "code",
   "execution_count": null,
   "id": "71fd22e2",
   "metadata": {},
   "outputs": [],
   "source": [
    "st_x= StandardScaler()    \n",
    "x_train= st_x.fit_transform(x_train)    \n",
    "x_test= st_x.transform(x_test)   "
   ]
  },
  {
   "cell_type": "markdown",
   "id": "25ba398d",
   "metadata": {},
   "source": [
    "### Paso 2: \n",
    "\n",
    "Construir los árboles de decisión"
   ]
  },
  {
   "cell_type": "code",
   "execution_count": null,
   "id": "6c735c01",
   "metadata": {},
   "outputs": [],
   "source": [
    "classifier = RandomForestClassifier(n_estimators= 10, criterion=\"entropy\")  \n",
    "classifier.fit(x_train, y_train)  "
   ]
  },
  {
   "cell_type": "code",
   "execution_count": null,
   "id": "3d6eb1e5",
   "metadata": {},
   "outputs": [],
   "source": [
    "y_pred= classifier.predict(x_test)  \n",
    "\n",
    "print(y_pred)"
   ]
  },
  {
   "cell_type": "markdown",
   "id": "54708d8f",
   "metadata": {},
   "source": [
    "### Confusion Matrix"
   ]
  },
  {
   "cell_type": "code",
   "execution_count": null,
   "id": "cbab625e",
   "metadata": {},
   "outputs": [],
   "source": [
    "cm= confusion_matrix(y_test, y_pred)\n",
    "\n",
    "cm"
   ]
  },
  {
   "cell_type": "code",
   "execution_count": null,
   "id": "d718500b",
   "metadata": {},
   "outputs": [],
   "source": [
    "x_set, y_set = x_train, y_train  \n",
    "x1, x2 = np.meshgrid(np.arange(start = x_set[:, 0].min() - 1, stop = x_set[:, 0].max() + 1, step  =0.01),  \n",
    "np.arange(start = x_set[:, 1].min() - 1, stop = x_set[:, 1].max() + 1, step = 0.01))  \n",
    "plt.contourf(x1, x2, classifier.predict(np.array([x1.ravel(), x2.ravel()]).T).reshape(x1.shape),  \n",
    "alpha = 0.75, cmap = ListedColormap(('purple','green' )))  \n",
    "plt.xlim(x1.min(), x1.max())  \n",
    "plt.ylim(x2.min(), x2.max())  \n",
    "for i, j in enumerate(np.unique(y_set)):  \n",
    "    plt.scatter(x_set[y_set == j, 0], x_set[y_set == j, 1],  \n",
    "        c = ListedColormap(('purple', 'green'))(i), label = j)  \n",
    "plt.title('Random Forest Algorithm (Training set)')  \n",
    "plt.xlabel('Age')  \n",
    "plt.ylabel('Estimated Salary')  \n",
    "plt.legend()  \n",
    "plt.show()  "
   ]
  },
  {
   "cell_type": "markdown",
   "id": "52ba28dd",
   "metadata": {},
   "source": [
    "## Métricas\n",
    "\n",
    "- MAPE\n",
    "- RMSE\n",
    "- MBE"
   ]
  }
 ],
 "metadata": {
  "language_info": {
   "codemirror_mode": {
    "name": "ipython",
    "version": 3
   },
   "file_extension": ".py",
   "mimetype": "text/x-python",
   "name": "python",
   "nbconvert_exporter": "python",
   "pygments_lexer": "ipython3",
   "version": "3.9.7"
  }
 },
 "nbformat": 4,
 "nbformat_minor": 5
}
